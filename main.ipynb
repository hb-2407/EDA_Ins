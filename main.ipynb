{
 "cells": [
  {
   "cell_type": "code",
   "execution_count": 2,
   "metadata": {},
   "outputs": [],
   "source": [
    "import pandas as pd\n",
    "import matplotlib.pyplot as plt\n",
    "import seaborn as sns\n",
    "\n",
    "# Set Seaborn style to resemble 'plotly_white'\n",
    "sns.set_style(\"whitegrid\")\n",
    "\n",
    "# Optionally, you can use plt.rcParams to further customize the plot appearance\n",
    "plt.rcParams.update({\n",
    "    'axes.edgecolor': 'black',\n",
    "    'axes.grid': True,\n",
    "    'grid.color': 'lightgray',\n",
    "    'grid.linestyle': '-',\n",
    "    'axes.facecolor': 'white'\n",
    "})\n"
   ]
  },
  {
   "cell_type": "code",
   "execution_count": 3,
   "metadata": {},
   "outputs": [],
   "source": [
    "data = pd.read_csv(\"Instagram_data.csv\", encoding='latin-1')"
   ]
  },
  {
   "cell_type": "code",
   "execution_count": null,
   "metadata": {},
   "outputs": [],
   "source": [
    "print(data.head())"
   ]
  },
  {
   "cell_type": "code",
   "execution_count": null,
   "metadata": {},
   "outputs": [],
   "source": [
    "print(data.columns)"
   ]
  },
  {
   "cell_type": "code",
   "execution_count": null,
   "metadata": {},
   "outputs": [],
   "source": [
    "print(data.info())"
   ]
  },
  {
   "cell_type": "code",
   "execution_count": null,
   "metadata": {},
   "outputs": [],
   "source": [
    "print(data.describe())"
   ]
  },
  {
   "cell_type": "code",
   "execution_count": null,
   "metadata": {},
   "outputs": [],
   "source": [
    "print(data.isnull().sum())"
   ]
  },
  {
   "cell_type": "code",
   "execution_count": null,
   "metadata": {},
   "outputs": [],
   "source": [
    "# Create a histogram using Matplotlib\n",
    "plt.figure(figsize=(8, 6))  # Set the figure size\n",
    "\n",
    "plt.hist(data['Impressions'], bins=10, edgecolor='black')  # Create the histogram with 10 bins\n",
    "plt.title('Distribution of Impressions')  # Add the title\n",
    "plt.xlabel('Impressions')  # Label x-axis\n",
    "plt.ylabel('Frequency')  # Label y-axis\n",
    "\n",
    "plt.grid(True, linestyle='--', alpha=0.7)  # Add grid lines similar to Plotly\n",
    "plt.show()  # Display the plot"
   ]
  },
  {
   "cell_type": "code",
   "execution_count": null,
   "metadata": {},
   "outputs": [],
   "source": [
    "# Create a line plot using Matplotlib\n",
    "plt.figure(figsize=(10, 6))  # Set figure size\n",
    "\n",
    "plt.plot(data.index, data['Impressions'], marker='o', color='b')  # Create the line plot\n",
    "plt.title('Impressions Over Time')  # Add title\n",
    "plt.xlabel('Time')  # Label x-axis\n",
    "plt.ylabel('Impressions')  # Label y-axis\n",
    "\n",
    "plt.grid(True, linestyle='--', alpha=0.7)  # Add grid lines\n",
    "plt.tight_layout()  # Adjust the padding around the plot\n",
    "plt.show()  # Display the plot"
   ]
  },
  {
   "cell_type": "code",
   "execution_count": null,
   "metadata": {},
   "outputs": [],
   "source": [
    "# Create a line plot using Matplotlib\n",
    "plt.figure(figsize=(10, 6))  # Set the figure size\n",
    "\n",
    "# Plot each metric as a line on the same figure\n",
    "plt.plot(data.index, data['Likes'], label='Likes', marker='o', color='b')\n",
    "plt.plot(data.index, data['Saves'], label='Saves', marker='s', color='g')\n",
    "plt.plot(data.index, data['Follows'], label='Follows', marker='^', color='r')\n",
    "\n",
    "# Add titles and labels\n",
    "plt.title('Metrics Over Time')\n",
    "plt.xlabel('Date')\n",
    "plt.ylabel('Count')\n",
    "\n",
    "# Show a legend for the lines\n",
    "plt.legend()\n",
    "\n",
    "# Add grid lines\n",
    "plt.grid(True, linestyle='--', alpha=0.7)\n",
    "\n",
    "# Tight layout for better spacing\n",
    "plt.tight_layout()\n",
    "\n",
    "# Show the plot\n",
    "plt.show()"
   ]
  },
  {
   "cell_type": "code",
   "execution_count": null,
   "metadata": {},
   "outputs": [],
   "source": [
    "# Data for the pie chart\n",
    "reach_sources = ['From Home', 'From Hashtags', 'From Explore', 'From Other']\n",
    "reach_counts = [data[source].sum() for source in reach_sources]\n",
    "\n",
    "# Colors for the pie chart\n",
    "colors = ['#FFB6C1', '#87CEFA', '#90EE90', '#FFDAB9']\n",
    "\n",
    "# Create a pie chart using Matplotlib\n",
    "plt.figure(figsize=(8, 8))  # Set the figure size\n",
    "\n",
    "plt.pie(reach_counts, labels=reach_sources, colors=colors, \n",
    "        autopct='%1.1f%%', startangle=90, wedgeprops={'edgecolor': 'black'})\n",
    "\n",
    "# Add title\n",
    "plt.title('Reach from Different Sources')\n",
    "\n",
    "# Ensure that pie chart is a circle\n",
    "plt.axis('equal')\n",
    "\n",
    "# Display the chart\n",
    "plt.show()"
   ]
  },
  {
   "cell_type": "code",
   "execution_count": null,
   "metadata": {},
   "outputs": [],
   "source": [
    "# Data for the pie chart\n",
    "engagement_metrics = ['Saves', 'Comments', 'Shares', 'Likes']\n",
    "engagement_counts = [data[metric].sum() for metric in engagement_metrics]\n",
    "\n",
    "# Colors for the pie chart\n",
    "colors = ['#FFB6C1', '#87CEFA', '#90EE90', '#FFDAB9']\n",
    "\n",
    "# Create a pie chart using Matplotlib\n",
    "plt.figure(figsize=(8, 8))  # Set the figure size\n",
    "\n",
    "plt.pie(engagement_counts, labels=engagement_metrics, colors=colors, \n",
    "        autopct='%1.1f%%', startangle=90, wedgeprops={'edgecolor': 'black'})\n",
    "\n",
    "# Add title\n",
    "plt.title('Engagement Sources')\n",
    "\n",
    "# Ensure that the pie chart is a circle\n",
    "plt.axis('equal')\n",
    "\n",
    "# Display the chart\n",
    "plt.show()"
   ]
  },
  {
   "cell_type": "code",
   "execution_count": null,
   "metadata": {},
   "outputs": [],
   "source": [
    "from wordcloud import WordCloud\n",
    "\n",
    "# Generate the word cloud\n",
    "hashtags = ' '.join(data['Hashtags'].astype(str))\n",
    "wordcloud = WordCloud(width=800, height=400, background_color='white').generate(hashtags)\n",
    "\n",
    "# Create a plot using Matplotlib\n",
    "plt.figure(figsize=(10, 5))  # Set the figure size\n",
    "plt.imshow(wordcloud, interpolation='bilinear')  # Display the word cloud\n",
    "plt.axis('off')  # Hide the axes\n",
    "plt.title('Hashtags Word Cloud')  # Add title\n",
    "plt.tight_layout()  # Adjust layout\n",
    "\n",
    "# Display the plot\n",
    "plt.show()"
   ]
  },
  {
   "cell_type": "code",
   "execution_count": null,
   "metadata": {},
   "outputs": [],
   "source": [
    "import pandas as pd\n",
    "import matplotlib.pyplot as plt\n",
    "import seaborn as sns\n",
    "\n",
    "# Inspect the data types of the columns\n",
    "print(data.dtypes)\n",
    "\n",
    "# Select only numeric columns from the DataFrame\n",
    "numeric_data = data.select_dtypes(include=['number'])\n",
    "\n",
    "# Check if numeric_data is empty or if there are still non-numeric columns\n",
    "if numeric_data.empty:\n",
    "    print(\"No numeric columns available for correlation.\")\n",
    "else:\n",
    "    # Compute the correlation matrix\n",
    "    corr_matrix = numeric_data.corr()\n",
    "\n",
    "    # Create a heatmap using Seaborn\n",
    "    plt.figure(figsize=(10, 8))  # Set the figure size\n",
    "    sns.heatmap(corr_matrix, \n",
    "                annot=True,           # Show correlation coefficients\n",
    "                fmt='.2f',           # Format the coefficients\n",
    "                cmap='RdBu',         # Color map\n",
    "                vmin=-1,             # Minimum value for color scaling\n",
    "                vmax=1,              # Maximum value for color scaling\n",
    "                center=0,            # Center the color scale\n",
    "                square=True,         # Make squares for each cell\n",
    "                cbar_kws={\"shrink\": .8})  # Color bar size\n",
    "\n",
    "    # Add title and labels\n",
    "    plt.title('Correlation Matrix')\n",
    "    plt.xlabel('Features')\n",
    "    plt.ylabel('Features')\n",
    "\n",
    "    # Display the plot\n",
    "    plt.tight_layout()\n",
    "    plt.show()\n"
   ]
  },
  {
   "cell_type": "code",
   "execution_count": null,
   "metadata": {},
   "outputs": [],
   "source": [
    "# Create a list to store all hashtags\n",
    "all_hashtags = []\n",
    "\n",
    "# Iterate through each row in the 'Hashtags' column\n",
    "for row in data['Hashtags']:\n",
    "    hashtags = str(row).split()\n",
    "    hashtags = [tag.strip() for tag in hashtags]\n",
    "    all_hashtags.extend(hashtags)\n",
    "\n",
    "# Create a pandas DataFrame to store the hashtag distribution\n",
    "hashtag_distribution = pd.Series(all_hashtags).value_counts().reset_index()\n",
    "hashtag_distribution.columns = ['Hashtag', 'Count']\n",
    "\n",
    "# Create a bar plot using Matplotlib\n",
    "plt.figure(figsize=(12, 6))  # Set the figure size\n",
    "plt.bar(hashtag_distribution['Hashtag'], hashtag_distribution['Count'], color='skyblue')\n",
    "\n",
    "# Add titles and labels\n",
    "plt.title('Distribution of Hashtags')\n",
    "plt.xlabel('Hashtag')\n",
    "plt.ylabel('Count')\n",
    "\n",
    "# Rotate x-axis labels for better readability\n",
    "plt.xticks(rotation=90, ha='right')\n",
    "\n",
    "# Add grid lines\n",
    "plt.grid(axis='y', linestyle='--', alpha=0.0)\n",
    "\n",
    "# Display the plot\n",
    "plt.tight_layout()\n",
    "plt.show()"
   ]
  },
  {
   "cell_type": "code",
   "execution_count": null,
   "metadata": {},
   "outputs": [],
   "source": [
    "# Create a dictionary to store the likes and impressions for each hashtag\n",
    "hashtag_likes = {}\n",
    "hashtag_impressions = {}\n",
    "\n",
    "# Iterate through each row in the dataset\n",
    "for index, row in data.iterrows():\n",
    "    hashtags = str(row['Hashtags']).split()\n",
    "    for hashtag in hashtags:\n",
    "        hashtag = hashtag.strip()\n",
    "        if hashtag not in hashtag_likes:\n",
    "            hashtag_likes[hashtag] = 0\n",
    "            hashtag_impressions[hashtag] = 0\n",
    "        hashtag_likes[hashtag] += row['Likes']\n",
    "        hashtag_impressions[hashtag] += row['Impressions']\n",
    "\n",
    "# Create a DataFrame for likes distribution\n",
    "likes_distribution = pd.DataFrame(list(hashtag_likes.items()), columns=['Hashtag', 'Likes'])\n",
    "\n",
    "# Create a DataFrame for impressions distribution\n",
    "impressions_distribution = pd.DataFrame(list(hashtag_impressions.items()), columns=['Hashtag', 'Impressions'])\n",
    "\n",
    "# Plot Likes Distribution\n",
    "plt.figure(figsize=(12, 6))  # Set the figure size\n",
    "plt.bar(likes_distribution['Hashtag'], likes_distribution['Likes'], color='lightblue')\n",
    "plt.title('Likes Distribution for Each Hashtag')\n",
    "plt.xlabel('Hashtag')\n",
    "plt.ylabel('Likes')\n",
    "plt.xticks(rotation=90, ha='right')  # Rotate x-axis labels\n",
    "plt.grid(axis='y', linestyle='--', alpha=0.7)\n",
    "plt.tight_layout()\n",
    "plt.show()\n",
    "\n",
    "# Plot Impressions Distribution\n",
    "plt.figure(figsize=(12, 6))  # Set the figure size\n",
    "plt.bar(impressions_distribution['Hashtag'], impressions_distribution['Impressions'], color='salmon')\n",
    "plt.title('Impressions Distribution for Each Hashtag')\n",
    "plt.xlabel('Hashtag')\n",
    "plt.ylabel('Impressions')\n",
    "plt.xticks(rotation=90, ha='right')  # Rotate x-axis labels\n",
    "plt.grid(axis='y', linestyle='--', alpha=0.7)\n",
    "plt.tight_layout()\n",
    "plt.show()"
   ]
  },
  {
   "cell_type": "code",
   "execution_count": null,
   "metadata": {},
   "outputs": [],
   "source": []
  }
 ],
 "metadata": {
  "kernelspec": {
   "display_name": "Python 3",
   "language": "python",
   "name": "python3"
  },
  "language_info": {
   "codemirror_mode": {
    "name": "ipython",
    "version": 3
   },
   "file_extension": ".py",
   "mimetype": "text/x-python",
   "name": "python",
   "nbconvert_exporter": "python",
   "pygments_lexer": "ipython3",
   "version": "3.12.5"
  }
 },
 "nbformat": 4,
 "nbformat_minor": 2
}
